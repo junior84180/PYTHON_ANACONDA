{
 "cells": [
  {
   "cell_type": "markdown",
   "id": "e41ff8b7-0821-4834-a806-2a3af24d9411",
   "metadata": {},
   "source": [
    "# Exercice 1\n",
    "Crée une fonction qui prend deux nombres en paramètres et retourne leur somme."
   ]
  },
  {
   "cell_type": "code",
   "execution_count": 4,
   "id": "d14aec3c-8c38-46fb-9b4f-e918d3aef029",
   "metadata": {},
   "outputs": [
    {
     "ename": "SyntaxError",
     "evalue": "Missing parentheses in call to 'print'. Did you mean print(...)? (2095513867.py, line 4)",
     "output_type": "error",
     "traceback": [
      "\u001b[1;36m  Cell \u001b[1;32mIn[4], line 4\u001b[1;36m\u001b[0m\n\u001b[1;33m    print resultat\u001b[0m\n\u001b[1;37m    ^\u001b[0m\n\u001b[1;31mSyntaxError\u001b[0m\u001b[1;31m:\u001b[0m Missing parentheses in call to 'print'. Did you mean print(...)?\n"
     ]
    }
   ],
   "source": [
    "def addition(a, b):\n",
    "    return a + b\n",
    "resultat = addition(4, 7)\n",
    "print resultat"
   ]
  },
  {
   "cell_type": "code",
   "execution_count": 5,
   "id": "144cb01a-d647-4bb7-9700-9dede9a22a67",
   "metadata": {},
   "outputs": [
    {
     "ename": "IndentationError",
     "evalue": "unexpected indent (722857254.py, line 2)",
     "output_type": "error",
     "traceback": [
      "\u001b[1;36m  Cell \u001b[1;32mIn[5], line 2\u001b[1;36m\u001b[0m\n\u001b[1;33m    print (resultat)\u001b[0m\n\u001b[1;37m    ^\u001b[0m\n\u001b[1;31mIndentationError\u001b[0m\u001b[1;31m:\u001b[0m unexpected indent\n"
     ]
    }
   ],
   "source": [
    "resultat = addition(4, 7)\n",
    "    print (resultat)"
   ]
  },
  {
   "cell_type": "code",
   "execution_count": null,
   "id": "518432fa-aee5-4fef-afb9-a5983b72792b",
   "metadata": {},
   "outputs": [],
   "source": []
  },
  {
   "cell_type": "markdown",
   "id": "4ded3d50-dda5-48d7-87cb-02281be17249",
   "metadata": {},
   "source": [
    "# Exercice 2\n",
    "Crée une fonction qui prend deux nombres en paramètres et retourne leur différence."
   ]
  },
  {
   "cell_type": "code",
   "execution_count": null,
   "id": "e08e1542-41c3-4747-9599-b63dd6877b01",
   "metadata": {},
   "outputs": [],
   "source": []
  },
  {
   "cell_type": "markdown",
   "id": "d8cb33fa-27d7-4d1f-ada3-523aa0a00112",
   "metadata": {},
   "source": [
    "# Exercice 3\n",
    "Écris une fonction qui prend deux nombres et retourne leur produit."
   ]
  },
  {
   "cell_type": "code",
   "execution_count": null,
   "id": "012eee48-bfa2-49d3-8c79-4e7e46af1ef3",
   "metadata": {},
   "outputs": [],
   "source": []
  },
  {
   "cell_type": "markdown",
   "id": "59b2d68e-731b-4d35-9fb3-cfc58e338ff6",
   "metadata": {},
   "source": [
    "# Exercice 4\n",
    "Crée une fonction qui prend un nombre en paramètre et retourne le carré de ce nombre."
   ]
  },
  {
   "cell_type": "code",
   "execution_count": null,
   "id": "ee29e60e-0118-4221-8fb1-7442345f578c",
   "metadata": {},
   "outputs": [],
   "source": []
  },
  {
   "cell_type": "markdown",
   "id": "ba0c8036-f3d2-4e30-9875-03d009cb8c73",
   "metadata": {},
   "source": [
    "# Exercice 5\n",
    "Crée une fonction qui prend une liste de nombres et retourne la somme de tous les éléments de cette liste."
   ]
  },
  {
   "cell_type": "code",
   "execution_count": null,
   "id": "d2c2611d-d050-40a0-bfa0-91fbaadcd305",
   "metadata": {},
   "outputs": [],
   "source": []
  },
  {
   "cell_type": "markdown",
   "id": "cdc3affa-4091-4f21-9416-b097fe787768",
   "metadata": {},
   "source": [
    "# Exercice 6\n",
    "Écris une fonction qui prend une liste de nombres et retourne la moyenne des éléments."
   ]
  },
  {
   "cell_type": "markdown",
   "id": "e44e1517-5e0d-447d-9fa4-3b8e1b1f2d9e",
   "metadata": {},
   "source": [
    "# Exercice 7\n",
    "Crée une fonction qui prend trois nombres en paramètres et renvoie le maximum de ces trois nombres."
   ]
  },
  {
   "cell_type": "markdown",
   "id": "10c1ce6d-babf-4ccc-b196-48d8ca235a9a",
   "metadata": {},
   "source": [
    "# Exercice 8\n",
    "Écris une fonction qui prend une liste de nombres et renvoie la valeur maximale de la liste.\n"
   ]
  },
  {
   "cell_type": "markdown",
   "id": "ecd598ca-5a7c-4f1a-aec1-febed8d81482",
   "metadata": {},
   "source": [
    "\n",
    "# Exercice 9\n",
    "Crée une fonction qui prend une liste de nombres et renvoie la valeur minimale de la liste."
   ]
  },
  {
   "cell_type": "markdown",
   "id": "6a1127da-2c67-4ad0-884f-bc2685777ae2",
   "metadata": {},
   "source": [
    "\n",
    "\n",
    "# Exercice 10\n",
    "Écris une fonction qui prend une liste de nombres et retourne la différence entre le maximum et le minimum de la liste."
   ]
  },
  {
   "cell_type": "markdown",
   "id": "eaca955b-e431-461d-b820-61d6bb37fcdf",
   "metadata": {},
   "source": [
    "# Exercice 11\n",
    "Crée une fonction qui prend une liste de nombres et retourne une nouvelle liste avec les carrés de chaque élément."
   ]
  },
  {
   "cell_type": "markdown",
   "id": "45abea9d-b4f7-4c96-9d74-214f8cc284d3",
   "metadata": {},
   "source": [
    "\n",
    "# Exercice 12\n",
    "Écris une fonction qui prend une liste de nombres et retourne une nouvelle liste contenant uniquement les paires de nombres.\n",
    "\n"
   ]
  },
  {
   "cell_type": "markdown",
   "id": "d89a54b9-c577-4b0b-b08d-6c1846850c81",
   "metadata": {},
   "source": [
    "# Exercice 13\n",
    "Crée une fonction qui prend une liste de nombres et retourne une nouvelle liste contenant uniquement les nombres impairs."
   ]
  },
  {
   "cell_type": "markdown",
   "id": "c805de22-79ec-447f-9930-304177cf70d7",
   "metadata": {},
   "source": [
    "\n",
    "# Exercice 14\n",
    "Écris une fonction qui prend une liste de nombres et retourne une nouvelle liste avec les nombres divisibles par 3.\n",
    "\n"
   ]
  },
  {
   "cell_type": "markdown",
   "id": "8e1f03ba-66e3-4392-88f0-19be79bed0f2",
   "metadata": {},
   "source": [
    "# Exercice 15\n",
    "Crée une fonction qui prend une liste et retourne le nombre d'éléments dans cette liste."
   ]
  },
  {
   "cell_type": "markdown",
   "id": "f80e59ad-ae34-497e-b332-9f19d02a1d64",
   "metadata": {},
   "source": [
    "# Exercice 16\n",
    "Écris une fonction qui prend une liste de nombres et retourne le produit de tous les éléments."
   ]
  },
  {
   "cell_type": "markdown",
   "id": "501d93df-b101-45d1-9b5d-dfa6389834a8",
   "metadata": {},
   "source": [
    "# Exercice 17\n",
    "Crée une fonction qui prend une liste de nombres et renvoie la somme des éléments altérés.\n",
    "\n",
    "\n"
   ]
  },
  {
   "cell_type": "markdown",
   "id": "b7c8cc6c-374c-46b6-8561-e1bfb1cf717a",
   "metadata": {},
   "source": [
    "# Exercice 18\n",
    "Écris une fonction qui prend une liste de nombres et retourne le nombre de nombres paires.\n"
   ]
  },
  {
   "cell_type": "markdown",
   "id": "57877144-25ce-4363-8090-e7b88f94e759",
   "metadata": {},
   "source": [
    "\n",
    "# Exercice 19\n",
    "Crée une fonction qui prend deux listes de nombres et retourne une nouvelle liste contenant la somme de chaque paire d'éléments à la même position dans les deux listes.\n",
    "\n"
   ]
  },
  {
   "cell_type": "markdown",
   "id": "3376f1c7-2582-4b6f-b9c7-2a4ab8cd3d72",
   "metadata": {},
   "source": [
    "# Exercice 20\n",
    "Écris une fonction qui prend une liste de nombres et retourne le quotient du plus grand nombre divisé par le plus petit.\n",
    "\n",
    "\n"
   ]
  },
  {
   "cell_type": "markdown",
   "id": "d43be3db-3d91-4c5d-8f88-20184c4af367",
   "metadata": {},
   "source": [
    "# Exercice 21\n",
    "Crée une fonction qui prend une liste de nombres et retourne la différence entre la somme des nombres paires et la somme des nombres altère.\n",
    "\n"
   ]
  },
  {
   "cell_type": "markdown",
   "id": "86f1a966-e93f-453b-95d1-bd4fd81e59ac",
   "metadata": {},
   "source": [
    "# Exercice 22\n",
    "Écris une fonction qui prend une liste de nombres et retourne le nombre de nombres supérieurs à 10."
   ]
  },
  {
   "cell_type": "markdown",
   "id": "5b79bb82-b584-4edf-b1ce-b5aa62173724",
   "metadata": {},
   "source": [
    "\n",
    "# Exercice 23\n",
    "Crée une fonction qui prend une liste de nombres et renvoie une nouvelle liste contenant seulement les nombres inférieurs à 0."
   ]
  },
  {
   "cell_type": "markdown",
   "id": "77f1b213-9ca4-41fe-821c-c33cd647a011",
   "metadata": {},
   "source": [
    "# Exercice 24\n",
    "Écris une fonction qui prend une liste de nombres et renvoie une nouvelle liste avec chaque élément divisé par 2.\n"
   ]
  },
  {
   "cell_type": "markdown",
   "id": "b9c27982-2e0a-45b5-bc66-b61b21df9a86",
   "metadata": {},
   "source": [
    "# Exercice 25\n",
    "Crée une fonction qui prend une liste et un nombre, et retourne une nouvelle liste avec chaque élément de la liste multiplié par le nombre donné.\n",
    "\n"
   ]
  },
  {
   "cell_type": "markdown",
   "id": "1e31f4f2-16e5-42de-8696-9096303d338a",
   "metadata": {},
   "source": [
    "# Exercice 26\n",
    "Écris une fonction qui prend une liste de nombres et retourne la liste triée dans l'ordre croissant.\n"
   ]
  },
  {
   "cell_type": "markdown",
   "id": "05e380af-0c77-4adb-867e-a07be7afeefe",
   "metadata": {},
   "source": [
    "# Exercice 26\n",
    "Écris une fonction qui prend une liste de nombres et retourne la liste triée dans l'ordre croissant.\n"
   ]
  },
  {
   "cell_type": "markdown",
   "id": "5649e200-a086-4004-a185-55150eac4019",
   "metadata": {},
   "source": [
    "# Exercice 27\n",
    "Crée une fonction qui prend une liste de nombres et retourne la liste triée en ordre décroissant.\n",
    "\n"
   ]
  },
  {
   "cell_type": "markdown",
   "id": "48c5ed41-9f21-4bcf-a26d-538a8611d9d2",
   "metadata": {},
   "source": [
    "# Exercice 28\n",
    "Écris une fonction qui prend une liste de nombres et retourne une nouvelle liste où chaque nombre est remplacé par le double de sa valeur.\n",
    "\n"
   ]
  },
  {
   "cell_type": "markdown",
   "id": "197a3dbe-9b7e-4af9-8490-a9bb4ab19b24",
   "metadata": {},
   "source": [
    "# Exercice 29\n",
    "Crée une fonction qui prend une liste et retourne une nouvelle liste sans les doublons."
   ]
  },
  {
   "cell_type": "markdown",
   "id": "64295e70-b9a0-46ea-91e3-cb5373013a87",
   "metadata": {},
   "source": [
    "# Exercice 30\n",
    "Écris une fonction qui prend une liste et un nombre en paramètres, et retourne combien de fois ce nombre apparaît dans la liste."
   ]
  },
  {
   "cell_type": "code",
   "execution_count": null,
   "id": "ce024488-77b3-41c2-8c02-05f9bbb34428",
   "metadata": {},
   "outputs": [],
   "source": []
  }
 ],
 "metadata": {
  "kernelspec": {
   "display_name": "Python 3 (ipykernel)",
   "language": "python",
   "name": "python3"
  },
  "language_info": {
   "codemirror_mode": {
    "name": "ipython",
    "version": 3
   },
   "file_extension": ".py",
   "mimetype": "text/x-python",
   "name": "python",
   "nbconvert_exporter": "python",
   "pygments_lexer": "ipython3",
   "version": "3.12.7"
  }
 },
 "nbformat": 4,
 "nbformat_minor": 5
}
