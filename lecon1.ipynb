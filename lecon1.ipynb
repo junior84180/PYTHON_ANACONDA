{
 "cells": [
  {
   "cell_type": "code",
   "execution_count": 1,
   "id": "9a66d6de-2d39-48f9-b87d-9b2a3f968d43",
   "metadata": {},
   "outputs": [
    {
     "name": "stdout",
     "output_type": "stream",
     "text": [
      "HELLO WORLD\n"
     ]
    }
   ],
   "source": [
    "print(\"HELLO WORLD\")"
   ]
  },
  {
   "cell_type": "code",
   "execution_count": 2,
   "id": "7bf4df82-0a13-4c80-a6f3-7e3f23c8c3c7",
   "metadata": {},
   "outputs": [
    {
     "name": "stdout",
     "output_type": "stream",
     "text": [
      "Je m'appelle MABIALA\n"
     ]
    }
   ],
   "source": [
    "print(\"Je m'appelle MABIALA\")"
   ]
  },
  {
   "cell_type": "code",
   "execution_count": null,
   "id": "a2dde772-038e-4d4f-ae46-bfca9b272772",
   "metadata": {},
   "outputs": [],
   "source": []
  }
 ],
 "metadata": {
  "kernelspec": {
   "display_name": "Python 3 (ipykernel)",
   "language": "python",
   "name": "python3"
  },
  "language_info": {
   "codemirror_mode": {
    "name": "ipython",
    "version": 3
   },
   "file_extension": ".py",
   "mimetype": "text/x-python",
   "name": "python",
   "nbconvert_exporter": "python",
   "pygments_lexer": "ipython3",
   "version": "3.12.7"
  }
 },
 "nbformat": 4,
 "nbformat_minor": 5
}
