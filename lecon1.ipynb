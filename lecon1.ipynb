{
 "cells": [
  {
   "cell_type": "code",
   "execution_count": 1,
   "id": "9a66d6de-2d39-48f9-b87d-9b2a3f968d43",
   "metadata": {},
   "outputs": [
    {
     "name": "stdout",
     "output_type": "stream",
     "text": [
      "HELLO WORLD\n"
     ]
    }
   ],
   "source": [
    "print(\"HELLO WORLD\")"
   ]
  },
  {
   "cell_type": "code",
   "execution_count": 2,
   "id": "7bf4df82-0a13-4c80-a6f3-7e3f23c8c3c7",
   "metadata": {},
   "outputs": [
    {
     "name": "stdout",
     "output_type": "stream",
     "text": [
      "Je m'appelle MABIALA\n"
     ]
    }
   ],
   "source": [
    "print(\"Je m'appelle MABIALA\")"
   ]
  },
  {
   "cell_type": "markdown",
   "id": "e7bf9452-d911-43d2-8773-bf572e421f82",
   "metadata": {},
   "source": [
    "Cette formation est utile pour booster ma carriere"
   ]
  },
  {
   "cell_type": "markdown",
   "id": "f4fa6dba-942e-4a78-a532-70b29ff6f70f",
   "metadata": {},
   "source": [
    "# VARIABLE\n",
    "## VARIABLE\n",
    "### VARIABLE\n",
    "#### VARIABLE\n",
    "##### VARIABLE"
   ]
  },
  {
   "cell_type": "code",
   "execution_count": 3,
   "id": "60c71ea1-9901-4b6c-9f7b-fe30e29bd583",
   "metadata": {},
   "outputs": [],
   "source": [
    "# Creation des variables\n",
    "nom = \"Junior\"\n",
    "age = 30\n",
    "taille = 1.63\n",
    "poids = 83\n",
    "message = \"Je suis ingenieur en Genie Electrique\""
   ]
  },
  {
   "cell_type": "code",
   "execution_count": 4,
   "id": "e76e36e5-dc05-4b24-aed7-0af56dd21a5b",
   "metadata": {},
   "outputs": [
    {
     "name": "stdout",
     "output_type": "stream",
     "text": [
      "Junior\n"
     ]
    }
   ],
   "source": [
    "print(nom)"
   ]
  },
  {
   "cell_type": "code",
   "execution_count": 5,
   "id": "94205466-440c-4476-b997-dda0d40050dc",
   "metadata": {},
   "outputs": [
    {
     "data": {
      "text/plain": [
       "'Junior'"
      ]
     },
     "execution_count": 5,
     "metadata": {},
     "output_type": "execute_result"
    }
   ],
   "source": [
    "nom"
   ]
  },
  {
   "cell_type": "code",
   "execution_count": 6,
   "id": "161dc459-731b-4e69-9269-fb232bb667a2",
   "metadata": {},
   "outputs": [
    {
     "data": {
      "text/plain": [
       "30"
      ]
     },
     "execution_count": 6,
     "metadata": {},
     "output_type": "execute_result"
    }
   ],
   "source": [
    "age"
   ]
  },
  {
   "cell_type": "code",
   "execution_count": 7,
   "id": "49174b23-a091-48a8-a087-07c642c04cba",
   "metadata": {},
   "outputs": [
    {
     "name": "stdout",
     "output_type": "stream",
     "text": [
      "30\n"
     ]
    }
   ],
   "source": [
    "print(age)"
   ]
  },
  {
   "cell_type": "code",
   "execution_count": 8,
   "id": "cad901e1-2594-4504-aa91-d5de7f36eebc",
   "metadata": {},
   "outputs": [
    {
     "name": "stdout",
     "output_type": "stream",
     "text": [
      "1.63 83\n"
     ]
    }
   ],
   "source": [
    "print(taille,poids)"
   ]
  },
  {
   "cell_type": "code",
   "execution_count": 11,
   "id": "eb84a5d2-ded5-4a08-9a61-cf85d72945d1",
   "metadata": {},
   "outputs": [
    {
     "name": "stdout",
     "output_type": "stream",
     "text": [
      "1.63\n",
      "83\n"
     ]
    }
   ],
   "source": [
    "print(taille)\n",
    "print(poids)"
   ]
  },
  {
   "cell_type": "code",
   "execution_count": 12,
   "id": "fe5f423b-c27f-4954-b630-d665bfca8027",
   "metadata": {},
   "outputs": [
    {
     "data": {
      "text/plain": [
       "str"
      ]
     },
     "execution_count": 12,
     "metadata": {},
     "output_type": "execute_result"
    }
   ],
   "source": [
    "type(nom)"
   ]
  },
  {
   "cell_type": "code",
   "execution_count": 13,
   "id": "6a48cdd9-3419-46a4-99be-25013edc3c09",
   "metadata": {},
   "outputs": [
    {
     "data": {
      "text/plain": [
       "int"
      ]
     },
     "execution_count": 13,
     "metadata": {},
     "output_type": "execute_result"
    }
   ],
   "source": [
    "type(age)"
   ]
  },
  {
   "cell_type": "code",
   "execution_count": 14,
   "id": "ecf34682-b55c-425c-b4e2-05336de51b7c",
   "metadata": {},
   "outputs": [
    {
     "data": {
      "text/plain": [
       "float"
      ]
     },
     "execution_count": 14,
     "metadata": {},
     "output_type": "execute_result"
    }
   ],
   "source": [
    "type(taille)"
   ]
  },
  {
   "cell_type": "code",
   "execution_count": 15,
   "id": "04dd54d8-d2df-4ccc-9fc6-9c7ac721edc1",
   "metadata": {},
   "outputs": [
    {
     "data": {
      "text/plain": [
       "str"
      ]
     },
     "execution_count": 15,
     "metadata": {},
     "output_type": "execute_result"
    }
   ],
   "source": [
    "type(message)"
   ]
  },
  {
   "cell_type": "code",
   "execution_count": 16,
   "id": "49e67728-7692-45a6-b0d9-189c19a8f46a",
   "metadata": {},
   "outputs": [
    {
     "data": {
      "text/plain": [
       "int"
      ]
     },
     "execution_count": 16,
     "metadata": {},
     "output_type": "execute_result"
    }
   ],
   "source": [
    "type(poids)"
   ]
  },
  {
   "cell_type": "code",
   "execution_count": null,
   "id": "1c979da0-efa4-479a-b1a9-95d7c336ff07",
   "metadata": {},
   "outputs": [],
   "source": [
    "# NOTIONS SUR LES VARIABLES"
   ]
  },
  {
   "cell_type": "code",
   "execution_count": 20,
   "id": "d3ce68d3-a622-41af-a085-31e6b537ec97",
   "metadata": {},
   "outputs": [],
   "source": [
    "l = 60\n",
    "L = 50\n",
    "C = 30.5"
   ]
  },
  {
   "cell_type": "markdown",
   "id": "812eab40-f21b-4d17-acd8-3274c1f947f1",
   "metadata": {},
   "source": [
    "### SOLUTION DEMANDER"
   ]
  },
  {
   "cell_type": "code",
   "execution_count": 21,
   "id": "fa901f8f-0f8e-4d5f-80b0-b17fc0e8c814",
   "metadata": {},
   "outputs": [],
   "source": [
    "# CALCUL DU PERIMETRE D'UN CARRE\n",
    "PERIMETRE_CARRE = C * 4\n",
    "\n",
    "# CALCUL DU PERIMETRE D'UN RECTANGLE\n",
    "PERIMETRE_RECTANGLE = (l + L) * 2\n",
    "\n",
    "# CALCUL DE LA SURFACE D'UN CARRE\n",
    "SURFACE_CARRE = C * C\n",
    "\n",
    "# CALCUL DE LA SURFACE D'UN RECTANGLE\n",
    "SURFACE_RECTANGLE = l * L\n"
   ]
  },
  {
   "cell_type": "code",
   "execution_count": 3,
   "id": "e15441a1-2d29-4181-b8e6-df4767367fb7",
   "metadata": {},
   "outputs": [
    {
     "ename": "NameError",
     "evalue": "name 'PERIMETRE_CARRE' is not defined",
     "output_type": "error",
     "traceback": [
      "\u001b[1;31m---------------------------------------------------------------------------\u001b[0m",
      "\u001b[1;31mNameError\u001b[0m                                 Traceback (most recent call last)",
      "Cell \u001b[1;32mIn[3], line 2\u001b[0m\n\u001b[0;32m      1\u001b[0m \u001b[38;5;66;03m# AFFICHER LES RESULTATS\u001b[39;00m\n\u001b[1;32m----> 2\u001b[0m \u001b[38;5;28mprint\u001b[39m(PERIMETRE_CARRE)\n\u001b[0;32m      3\u001b[0m \u001b[38;5;28mprint\u001b[39m(PERIMETRE_RECTANGLE)\n\u001b[0;32m      4\u001b[0m \u001b[38;5;28mprint\u001b[39m(SURFACE_CARRE)\n",
      "\u001b[1;31mNameError\u001b[0m: name 'PERIMETRE_CARRE' is not defined"
     ]
    }
   ],
   "source": [
    "# AFFICHER LES RESULTATS\n",
    "print(PERIMETRE_CARRE)\n",
    "print(PERIMETRE_RECTANGLE)\n",
    "print(SURFACE_CARRE)\n",
    "print(SURFACE_RECTANGLE)"
   ]
  },
  {
   "cell_type": "code",
   "execution_count": null,
   "id": "2f9f4b74-8413-4897-a9ae-45b37e77eb38",
   "metadata": {},
   "outputs": [],
   "source": []
  },
  {
   "cell_type": "markdown",
   "id": "5d3f3f05-e4cb-4c20-9dd6-9d6940bd6d27",
   "metadata": {},
   "source": [
    "## Opérations Arithmétiques Simples:\n",
    "\n",
    "- *Opérations de Base*: Addition +, soustraction -, multiplication *, et division /.\n",
    "- *Opérations Avancées*: Division entière //, modulo %, et exponentiation **.\n",
    "- *Priorité*: Python suit l'ordre opérationnel mathématique standard."
   ]
  },
  {
   "cell_type": "markdown",
   "id": "92c96236-4ce9-4273-805d-29a3ff0d205d",
   "metadata": {},
   "source": [
    " # CREATION FONCTION CLASSIQUE"
   ]
  },
  {
   "cell_type": "code",
   "execution_count": 19,
   "id": "923b1fd0-85a4-4c73-8d99-12fc828d71df",
   "metadata": {},
   "outputs": [
    {
     "ename": "SyntaxError",
     "evalue": "expected ':' (1098648960.py, line 1)",
     "output_type": "error",
     "traceback": [
      "\u001b[1;36m  Cell \u001b[1;32mIn[19], line 1\u001b[1;36m\u001b[0m\n\u001b[1;33m    def E_Rectangle (L,l)\u001b[0m\n\u001b[1;37m                         ^\u001b[0m\n\u001b[1;31mSyntaxError\u001b[0m\u001b[1;31m:\u001b[0m expected ':'\n"
     ]
    }
   ],
   "source": [
    "def E_Rectangle (L,l)\n",
    "    Perimetre = 2*(L+l)\n",
    "    return Perimetre"
   ]
  },
  {
   "cell_type": "code",
   "execution_count": 23,
   "id": "0251692b-37e7-4402-bd20-a08e31215465",
   "metadata": {},
   "outputs": [],
   "source": [
    "def E_Rectangle (L,l) :\n",
    "    Perimetre = 2*(L+l)\n",
    "    return Perimetre"
   ]
  },
  {
   "cell_type": "code",
   "execution_count": 24,
   "id": "0861ca6e-2daf-409c-8f72-e07f18a42cd0",
   "metadata": {},
   "outputs": [
    {
     "data": {
      "text/plain": [
       "16"
      ]
     },
     "execution_count": 24,
     "metadata": {},
     "output_type": "execute_result"
    }
   ],
   "source": [
    "E_Rectangle (5,3)"
   ]
  },
  {
   "cell_type": "markdown",
   "id": "3299d130-04d0-4876-8077-36c75597a300",
   "metadata": {},
   "source": [
    "# STRUCTURES DE CONTROLE"
   ]
  },
  {
   "cell_type": "markdown",
   "id": "e2b94ade-2cec-402e-9c65-088b83042bc9",
   "metadata": {},
   "source": [
    "if: Comment prendre des decisions dans vos programmes"
   ]
  },
  {
   "cell_type": "code",
   "execution_count": 8,
   "id": "1f8153be-4e05-4a44-a8d3-2300d6f86afa",
   "metadata": {},
   "outputs": [
    {
     "name": "stdin",
     "output_type": "stream",
     "text": [
      "veuillez saisir un nombre 55\n"
     ]
    },
    {
     "name": "stdout",
     "output_type": "stream",
     "text": [
      "il fait chaud\n"
     ]
    }
   ],
   "source": [
    "# Decision Simple\n",
    "temperature = float(input(\"veuillez saisir un nombre\"))\n",
    "if temperature > 30:\n",
    "    print(\"il fait chaud\")"
   ]
  },
  {
   "cell_type": "code",
   "execution_count": 7,
   "id": "e200d628-6038-40a2-b6c8-f7ae27994000",
   "metadata": {},
   "outputs": [
    {
     "data": {
      "text/plain": [
       "str"
      ]
     },
     "execution_count": 7,
     "metadata": {},
     "output_type": "execute_result"
    }
   ],
   "source": [
    "type(temperature)"
   ]
  },
  {
   "cell_type": "code",
   "execution_count": 14,
   "id": "7f1964ce-2850-47bd-bd11-fe57d353729a",
   "metadata": {
    "scrolled": true
   },
   "outputs": [
    {
     "name": "stdin",
     "output_type": "stream",
     "text": [
      "veuillez saisir la temperature 30\n"
     ]
    },
    {
     "name": "stdout",
     "output_type": "stream",
     "text": [
      "il fait froid\n"
     ]
    }
   ],
   "source": [
    "# Decision avec alternative (Else)\n",
    "temperature = int(input(\"veuillez saisir la temperature\"))\n",
    "if temperature > 30:\n",
    "    print(\"il fait chaud\")\n",
    "else:\n",
    "    print(\"il fait froid\")"
   ]
  },
  {
   "cell_type": "code",
   "execution_count": 23,
   "id": "4d84e9b4-7e8f-44b6-bd02-84c33f734453",
   "metadata": {},
   "outputs": [
    {
     "name": "stdin",
     "output_type": "stream",
     "text": [
      "Veuillez saisir votre note G\n"
     ]
    },
    {
     "name": "stdout",
     "output_type": "stream",
     "text": [
      "PARASOL\n"
     ]
    }
   ],
   "source": [
    "# Decision avec multiples alternatives (Elif)\n",
    "note =input(\"Veuillez saisir votre note\")\n",
    "if note == \"A\" :\n",
    "    print(\"PREMIUM\")\n",
    "elif note == \"B\" :\n",
    "    print(\"SHOP\")\n",
    "elif note == \"C\" :\n",
    "    print(\"KIOSQUE\")\n",
    "else :\n",
    "    print(\"PARASOL\")"
   ]
  },
  {
   "cell_type": "code",
   "execution_count": 26,
   "id": "220caeed-7abf-4cc8-9a68-07151585811f",
   "metadata": {},
   "outputs": [
    {
     "name": "stdin",
     "output_type": "stream",
     "text": [
      "Veuillez saisir votre note 17\n",
      "Veuillez saisir votre age 19\n"
     ]
    },
    {
     "name": "stdout",
     "output_type": "stream",
     "text": [
      "Bourse acceptee\n"
     ]
    }
   ],
   "source": [
    "# Condition avec multiples conditions\n",
    "note = int(input(\"Veuillez saisir votre note\"))\n",
    "age = int(input(\"Veuillez saisir votre age\"))\n",
    "if (note >=16) & (age <=20):\n",
    "    print(\"Bourse acceptee\")\n",
    "else :\n",
    "    print(\"Pas de Bourse\")"
   ]
  },
  {
   "cell_type": "code",
   "execution_count": null,
   "id": "96120021-4d66-45ce-8d68-eb3e07dddab4",
   "metadata": {},
   "outputs": [],
   "source": []
  }
 ],
 "metadata": {
  "kernelspec": {
   "display_name": "Python 3 (ipykernel)",
   "language": "python",
   "name": "python3"
  },
  "language_info": {
   "codemirror_mode": {
    "name": "ipython",
    "version": 3
   },
   "file_extension": ".py",
   "mimetype": "text/x-python",
   "name": "python",
   "nbconvert_exporter": "python",
   "pygments_lexer": "ipython3",
   "version": "3.12.7"
  }
 },
 "nbformat": 4,
 "nbformat_minor": 5
}
